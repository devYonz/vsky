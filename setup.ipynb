{
 "cells": [
  {
   "cell_type": "markdown",
   "metadata": {},
   "source": [
    "# Setup the workspace with needed items\n",
    "Python environment, requirements.txt and other relevant items"
   ]
  },
  {
   "cell_type": "markdown",
   "metadata": {},
   "source": [
    "## Conda setup"
   ]
  },
  {
   "cell_type": "code",
   "execution_count": 1,
   "metadata": {
    "vscode": {
     "languageId": "shellscript"
    }
   },
   "outputs": [
    {
     "name": "stdout",
     "output_type": "stream",
     "text": [
      "# conda environments:\n",
      "#\n",
      "vsky                  *  /home/azure-ml/.conda/envs/vsky\n",
      "base                     /opt/miniconda\n",
      "\n",
      "\n",
      "     active environment : vsky\n",
      "    active env location : /home/azure-ml/.conda/envs/vsky\n",
      "            shell level : 1\n",
      "       user config file : /home/azure-ml/.condarc\n",
      " populated config files : /opt/miniconda/.condarc\n",
      "                          /home/azure-ml/.condarc\n",
      "          conda version : 24.9.2\n",
      "    conda-build version : not installed\n",
      "         python version : 3.12.2.final.0\n",
      "                 solver : libmamba (default)\n",
      "       virtual packages : __archspec=1=x86_64_v4\n",
      "                          __conda=24.9.2=0\n",
      "                          __cuda=12.4=0\n",
      "                          __glibc=2.35=0\n",
      "                          __linux=6.8.0=0\n",
      "                          __unix=0=0\n",
      "       base environment : /opt/miniconda  (read only)\n",
      "      conda av data dir : /opt/miniconda/etc/conda\n",
      "  conda av metadata url : None\n",
      "           channel URLs : https://repo.anaconda.com/pkgs/main/linux-64\n",
      "                          https://repo.anaconda.com/pkgs/main/noarch\n",
      "                          https://repo.anaconda.com/pkgs/r/linux-64\n",
      "                          https://repo.anaconda.com/pkgs/r/noarch\n",
      "          package cache : /opt/miniconda/pkgs\n",
      "                          /home/azure-ml/.conda/pkgs\n",
      "       envs directories : /home/azure-ml/.conda/envs\n",
      "                          /opt/miniconda/envs\n",
      "               platform : linux-64\n",
      "             user-agent : conda/24.9.2 requests/2.32.3 CPython/3.12.2 Linux/6.8.0-1017-azure ubuntu/22.04.5 glibc/2.35 solver/libmamba conda-libmamba-solver/24.9.0 libmambapy/1.5.8 aau/0.4.4 c/. s/. e/.\n",
      "                UID:GID : 1000:100\n",
      "             netrc file : None\n",
      "           offline mode : False\n",
      "\n",
      "\n",
      "\n",
      "Note: you may need to restart the kernel to use updated packages.\n"
     ]
    }
   ],
   "source": [
    "# ! conda create -n vsky -c conda-forge python=3.11 -y\n",
    "! conda env list\n",
    "## === Need to do the below from terminal ==\n",
    "# ! conda activate vsky\n",
    "# conda install ipykernel -y\n",
    "# python -m ipykernel install --user --name vsky\n",
    "# ! jupyter kernelspec list\n",
    "\n",
    "%conda info\n",
    "# Make sure to select vsky interpreter"
   ]
  },
  {
   "cell_type": "markdown",
   "metadata": {},
   "source": [
    "## Bluesky Requirements"
   ]
  },
  {
   "cell_type": "code",
   "execution_count": 5,
   "metadata": {
    "vscode": {
     "languageId": "shellscript"
    }
   },
   "outputs": [
    {
     "name": "stdout",
     "output_type": "stream",
     "text": [
      "Requirement already satisfied: atproto in /home/azure-ml/.conda/envs/vsky/lib/python3.11/site-packages (from -r requirements.txt (line 1)) (0.0.55)\n",
      "Collecting python-dotenv (from -r requirements.txt (line 2))\n",
      "  Downloading python_dotenv-1.0.1-py3-none-any.whl.metadata (23 kB)\n",
      "Requirement already satisfied: click<9,>=8.1.3 in /home/azure-ml/.conda/envs/vsky/lib/python3.11/site-packages (from atproto->-r requirements.txt (line 1)) (8.1.7)\n",
      "Requirement already satisfied: cryptography<44,>=41.0.7 in /home/azure-ml/.conda/envs/vsky/lib/python3.11/site-packages (from atproto->-r requirements.txt (line 1)) (43.0.3)\n",
      "Requirement already satisfied: dnspython<3,>=2.4.0 in /home/azure-ml/.conda/envs/vsky/lib/python3.11/site-packages (from atproto->-r requirements.txt (line 1)) (2.7.0)\n",
      "Requirement already satisfied: httpx<0.28.0,>=0.25.0 in /home/azure-ml/.conda/envs/vsky/lib/python3.11/site-packages (from atproto->-r requirements.txt (line 1)) (0.27.2)\n",
      "Requirement already satisfied: libipld<4,>=2.0.0 in /home/azure-ml/.conda/envs/vsky/lib/python3.11/site-packages (from atproto->-r requirements.txt (line 1)) (3.0.0)\n",
      "Requirement already satisfied: pydantic<3,>=2.7 in /home/azure-ml/.conda/envs/vsky/lib/python3.11/site-packages (from atproto->-r requirements.txt (line 1)) (2.10.1)\n",
      "Requirement already satisfied: typing-extensions<5,>=4.8.0 in /home/azure-ml/.conda/envs/vsky/lib/python3.11/site-packages (from atproto->-r requirements.txt (line 1)) (4.12.2)\n",
      "Requirement already satisfied: websockets<14,>=12 in /home/azure-ml/.conda/envs/vsky/lib/python3.11/site-packages (from atproto->-r requirements.txt (line 1)) (13.1)\n",
      "Requirement already satisfied: cffi>=1.12 in /home/azure-ml/.conda/envs/vsky/lib/python3.11/site-packages (from cryptography<44,>=41.0.7->atproto->-r requirements.txt (line 1)) (1.17.1)\n",
      "Requirement already satisfied: anyio in /home/azure-ml/.conda/envs/vsky/lib/python3.11/site-packages (from httpx<0.28.0,>=0.25.0->atproto->-r requirements.txt (line 1)) (4.6.2.post1)\n",
      "Requirement already satisfied: certifi in /home/azure-ml/.conda/envs/vsky/lib/python3.11/site-packages (from httpx<0.28.0,>=0.25.0->atproto->-r requirements.txt (line 1)) (2024.8.30)\n",
      "Requirement already satisfied: httpcore==1.* in /home/azure-ml/.conda/envs/vsky/lib/python3.11/site-packages (from httpx<0.28.0,>=0.25.0->atproto->-r requirements.txt (line 1)) (1.0.7)\n",
      "Requirement already satisfied: idna in /home/azure-ml/.conda/envs/vsky/lib/python3.11/site-packages (from httpx<0.28.0,>=0.25.0->atproto->-r requirements.txt (line 1)) (3.10)\n",
      "Requirement already satisfied: sniffio in /home/azure-ml/.conda/envs/vsky/lib/python3.11/site-packages (from httpx<0.28.0,>=0.25.0->atproto->-r requirements.txt (line 1)) (1.3.1)\n",
      "Requirement already satisfied: h11<0.15,>=0.13 in /home/azure-ml/.conda/envs/vsky/lib/python3.11/site-packages (from httpcore==1.*->httpx<0.28.0,>=0.25.0->atproto->-r requirements.txt (line 1)) (0.14.0)\n",
      "Requirement already satisfied: annotated-types>=0.6.0 in /home/azure-ml/.conda/envs/vsky/lib/python3.11/site-packages (from pydantic<3,>=2.7->atproto->-r requirements.txt (line 1)) (0.7.0)\n",
      "Requirement already satisfied: pydantic-core==2.27.1 in /home/azure-ml/.conda/envs/vsky/lib/python3.11/site-packages (from pydantic<3,>=2.7->atproto->-r requirements.txt (line 1)) (2.27.1)\n",
      "Requirement already satisfied: pycparser in /home/azure-ml/.conda/envs/vsky/lib/python3.11/site-packages (from cffi>=1.12->cryptography<44,>=41.0.7->atproto->-r requirements.txt (line 1)) (2.22)\n",
      "Downloading python_dotenv-1.0.1-py3-none-any.whl (19 kB)\n",
      "Installing collected packages: python-dotenv\n",
      "Successfully installed python-dotenv-1.0.1\n",
      "Note: you may need to restart the kernel to use updated packages.\n"
     ]
    }
   ],
   "source": [
    "%pip install -r requirements.txt"
   ]
  }
 ],
 "metadata": {
  "kernelspec": {
   "display_name": "vsky",
   "language": "python",
   "name": "python3"
  },
  "language_info": {
   "codemirror_mode": {
    "name": "ipython",
    "version": 3
   },
   "file_extension": ".py",
   "mimetype": "text/x-python",
   "name": "python",
   "nbconvert_exporter": "python",
   "pygments_lexer": "ipython3",
   "version": "3.11.10"
  }
 },
 "nbformat": 4,
 "nbformat_minor": 2
}
