{
 "cells": [
  {
   "cell_type": "markdown",
   "metadata": {},
   "source": [
    "# Setup the workspace with needed items\n",
    "Python environment, requirements.txt and other relevant items"
   ]
  },
  {
   "cell_type": "markdown",
   "metadata": {},
   "source": [
    "## Conda setup"
   ]
  },
  {
   "cell_type": "code",
   "execution_count": 1,
   "metadata": {
    "vscode": {
     "languageId": "shellscript"
    }
   },
   "outputs": [
    {
     "name": "stdout",
     "output_type": "stream",
     "text": [
      "/opt/homebrew/Caskroom/miniconda/base/lib/python3.11/site-packages/conda/base/context.py:982: FutureWarning: Adding 'defaults' to the channel list implicitly is deprecated and will be removed in 25.3. \n",
      "\n",
      "To remove this warning, please choose a default channel explicitly via 'conda config --add channels <name>', e.g. 'conda config --add channels defaults'.\n",
      "  deprecated.topic(\n",
      "# conda environments:\n",
      "#\n",
      "                         /Users/Innov8/miniconda\n",
      "                         /Users/Innov8/miniconda/envs/cMetalML\n",
      "base                     /opt/homebrew/Caskroom/miniconda/base\n",
      "ftune                    /opt/homebrew/Caskroom/miniconda/base/envs/ftune\n",
      "jscrape                  /opt/homebrew/Caskroom/miniconda/base/envs/jscrape\n",
      "local-db                 /opt/homebrew/Caskroom/miniconda/base/envs/local-db\n",
      "mlc                      /opt/homebrew/Caskroom/miniconda/base/envs/mlc\n",
      "mlx                      /opt/homebrew/Caskroom/miniconda/base/envs/mlx\n",
      "raystarter               /opt/homebrew/Caskroom/miniconda/base/envs/raystarter\n",
      "small-dbt                /opt/homebrew/Caskroom/miniconda/base/envs/small-dbt\n",
      "vsky                  *  /opt/homebrew/Caskroom/miniconda/base/envs/vsky\n",
      "\n",
      "/opt/homebrew/Caskroom/miniconda/base/lib/python3.11/site-packages/conda/base/context.py:982: FutureWarning: Adding 'defaults' to the channel list implicitly is deprecated and will be removed in 25.3. \n",
      "\n",
      "To remove this warning, please choose a default channel explicitly via 'conda config --add channels <name>', e.g. 'conda config --add channels defaults'.\n",
      "  deprecated.topic(\n",
      "\n",
      "     active environment : vsky\n",
      "    active env location : /opt/homebrew/Caskroom/miniconda/base/envs/vsky\n",
      "            shell level : 2\n",
      "       user config file : /Users/Innov8/.condarc\n",
      " populated config files : \n",
      "          conda version : 24.9.1\n",
      "    conda-build version : not installed\n",
      "         python version : 3.11.7.final.0\n",
      "                 solver : libmamba (default)\n",
      "       virtual packages : __archspec=1=m2\n",
      "                          __conda=24.9.1=0\n",
      "                          __osx=14.6.1=0\n",
      "                          __unix=0=0\n",
      "       base environment : /opt/homebrew/Caskroom/miniconda/base  (writable)\n",
      "      conda av data dir : /opt/homebrew/Caskroom/miniconda/base/etc/conda\n",
      "  conda av metadata url : None\n",
      "           channel URLs : https://repo.anaconda.com/pkgs/main/osx-arm64\n",
      "                          https://repo.anaconda.com/pkgs/main/noarch\n",
      "                          https://repo.anaconda.com/pkgs/r/osx-arm64\n",
      "                          https://repo.anaconda.com/pkgs/r/noarch\n",
      "          package cache : /opt/homebrew/Caskroom/miniconda/base/pkgs\n",
      "                          /Users/Innov8/.conda/pkgs\n",
      "       envs directories : /opt/homebrew/Caskroom/miniconda/base/envs\n",
      "                          /Users/Innov8/.conda/envs\n",
      "               platform : osx-arm64\n",
      "             user-agent : conda/24.9.1 requests/2.31.0 CPython/3.11.7 Darwin/23.6.0 OSX/14.6.1 solver/libmamba conda-libmamba-solver/23.12.0 libmambapy/1.5.3\n",
      "                UID:GID : 501:20\n",
      "             netrc file : None\n",
      "           offline mode : False\n",
      "\n",
      "\n",
      "\n",
      "Note: you may need to restart the kernel to use updated packages.\n"
     ]
    }
   ],
   "source": [
    "# ! conda create -n vsky -c conda-forge python=3.11 -y\n",
    "! conda env list\n",
    "## === Need to do the below from terminal ==\n",
    "# ! conda activate vsky\n",
    "# conda install ipykernel -y\n",
    "# python -m ipykernel install --user --name vsky\n",
    "# ! jupyter kernelspec list\n",
    "\n",
    "%conda info\n",
    "# Make sure to select vsky interpreter"
   ]
  },
  {
   "cell_type": "markdown",
   "metadata": {},
   "source": [
    "## Bluesky Requirements"
   ]
  },
  {
   "cell_type": "code",
   "execution_count": 2,
   "metadata": {
    "vscode": {
     "languageId": "shellscript"
    }
   },
   "outputs": [
    {
     "name": "stdout",
     "output_type": "stream",
     "text": [
      "Requirement already satisfied: atproto in /opt/homebrew/Caskroom/miniconda/base/envs/vsky/lib/python3.11/site-packages (from -r requirements.txt (line 1)) (0.0.55)\n",
      "Requirement already satisfied: python-dotenv in /opt/homebrew/Caskroom/miniconda/base/envs/vsky/lib/python3.11/site-packages (from -r requirements.txt (line 2)) (1.0.1)\n",
      "Collecting pandas (from -r requirements.txt (line 3))\n",
      "  Downloading pandas-2.2.3-cp311-cp311-macosx_11_0_arm64.whl.metadata (89 kB)\n",
      "Collecting pyarrow (from -r requirements.txt (line 4))\n",
      "  Downloading pyarrow-18.0.0-cp311-cp311-macosx_12_0_arm64.whl.metadata (3.3 kB)\n",
      "Requirement already satisfied: click<9,>=8.1.3 in /opt/homebrew/Caskroom/miniconda/base/envs/vsky/lib/python3.11/site-packages (from atproto->-r requirements.txt (line 1)) (8.1.7)\n",
      "Requirement already satisfied: cryptography<44,>=41.0.7 in /opt/homebrew/Caskroom/miniconda/base/envs/vsky/lib/python3.11/site-packages (from atproto->-r requirements.txt (line 1)) (43.0.3)\n",
      "Requirement already satisfied: dnspython<3,>=2.4.0 in /opt/homebrew/Caskroom/miniconda/base/envs/vsky/lib/python3.11/site-packages (from atproto->-r requirements.txt (line 1)) (2.7.0)\n",
      "Requirement already satisfied: httpx<0.28.0,>=0.25.0 in /opt/homebrew/Caskroom/miniconda/base/envs/vsky/lib/python3.11/site-packages (from atproto->-r requirements.txt (line 1)) (0.27.2)\n",
      "Requirement already satisfied: libipld<4,>=2.0.0 in /opt/homebrew/Caskroom/miniconda/base/envs/vsky/lib/python3.11/site-packages (from atproto->-r requirements.txt (line 1)) (3.0.0)\n",
      "Requirement already satisfied: pydantic<3,>=2.7 in /opt/homebrew/Caskroom/miniconda/base/envs/vsky/lib/python3.11/site-packages (from atproto->-r requirements.txt (line 1)) (2.10.1)\n",
      "Requirement already satisfied: typing-extensions<5,>=4.8.0 in /opt/homebrew/Caskroom/miniconda/base/envs/vsky/lib/python3.11/site-packages (from atproto->-r requirements.txt (line 1)) (4.12.2)\n",
      "Requirement already satisfied: websockets<14,>=12 in /opt/homebrew/Caskroom/miniconda/base/envs/vsky/lib/python3.11/site-packages (from atproto->-r requirements.txt (line 1)) (13.1)\n",
      "Collecting numpy>=1.23.2 (from pandas->-r requirements.txt (line 3))\n",
      "  Downloading numpy-2.1.3-cp311-cp311-macosx_14_0_arm64.whl.metadata (62 kB)\n",
      "Requirement already satisfied: python-dateutil>=2.8.2 in /opt/homebrew/Caskroom/miniconda/base/envs/vsky/lib/python3.11/site-packages (from pandas->-r requirements.txt (line 3)) (2.9.0.post0)\n",
      "Collecting pytz>=2020.1 (from pandas->-r requirements.txt (line 3))\n",
      "  Using cached pytz-2024.2-py2.py3-none-any.whl.metadata (22 kB)\n",
      "Collecting tzdata>=2022.7 (from pandas->-r requirements.txt (line 3))\n",
      "  Using cached tzdata-2024.2-py2.py3-none-any.whl.metadata (1.4 kB)\n",
      "Requirement already satisfied: cffi>=1.12 in /opt/homebrew/Caskroom/miniconda/base/envs/vsky/lib/python3.11/site-packages (from cryptography<44,>=41.0.7->atproto->-r requirements.txt (line 1)) (1.17.1)\n",
      "Requirement already satisfied: anyio in /opt/homebrew/Caskroom/miniconda/base/envs/vsky/lib/python3.11/site-packages (from httpx<0.28.0,>=0.25.0->atproto->-r requirements.txt (line 1)) (4.6.2.post1)\n",
      "Requirement already satisfied: certifi in /opt/homebrew/Caskroom/miniconda/base/envs/vsky/lib/python3.11/site-packages (from httpx<0.28.0,>=0.25.0->atproto->-r requirements.txt (line 1)) (2024.8.30)\n",
      "Requirement already satisfied: httpcore==1.* in /opt/homebrew/Caskroom/miniconda/base/envs/vsky/lib/python3.11/site-packages (from httpx<0.28.0,>=0.25.0->atproto->-r requirements.txt (line 1)) (1.0.7)\n",
      "Requirement already satisfied: idna in /opt/homebrew/Caskroom/miniconda/base/envs/vsky/lib/python3.11/site-packages (from httpx<0.28.0,>=0.25.0->atproto->-r requirements.txt (line 1)) (3.10)\n",
      "Requirement already satisfied: sniffio in /opt/homebrew/Caskroom/miniconda/base/envs/vsky/lib/python3.11/site-packages (from httpx<0.28.0,>=0.25.0->atproto->-r requirements.txt (line 1)) (1.3.1)\n",
      "Requirement already satisfied: h11<0.15,>=0.13 in /opt/homebrew/Caskroom/miniconda/base/envs/vsky/lib/python3.11/site-packages (from httpcore==1.*->httpx<0.28.0,>=0.25.0->atproto->-r requirements.txt (line 1)) (0.14.0)\n",
      "Requirement already satisfied: annotated-types>=0.6.0 in /opt/homebrew/Caskroom/miniconda/base/envs/vsky/lib/python3.11/site-packages (from pydantic<3,>=2.7->atproto->-r requirements.txt (line 1)) (0.7.0)\n",
      "Requirement already satisfied: pydantic-core==2.27.1 in /opt/homebrew/Caskroom/miniconda/base/envs/vsky/lib/python3.11/site-packages (from pydantic<3,>=2.7->atproto->-r requirements.txt (line 1)) (2.27.1)\n",
      "Requirement already satisfied: six>=1.5 in /opt/homebrew/Caskroom/miniconda/base/envs/vsky/lib/python3.11/site-packages (from python-dateutil>=2.8.2->pandas->-r requirements.txt (line 3)) (1.16.0)\n",
      "Requirement already satisfied: pycparser in /opt/homebrew/Caskroom/miniconda/base/envs/vsky/lib/python3.11/site-packages (from cffi>=1.12->cryptography<44,>=41.0.7->atproto->-r requirements.txt (line 1)) (2.22)\n",
      "Downloading pandas-2.2.3-cp311-cp311-macosx_11_0_arm64.whl (11.3 MB)\n",
      "\u001b[2K   \u001b[90m━━━━━━━━━━━━━━━━━━━━━━━━━━━━━━━━━━━━━━━━\u001b[0m \u001b[32m11.3/11.3 MB\u001b[0m \u001b[31m51.4 MB/s\u001b[0m eta \u001b[36m0:00:00\u001b[0ma \u001b[36m0:00:01\u001b[0m\n",
      "\u001b[?25hDownloading pyarrow-18.0.0-cp311-cp311-macosx_12_0_arm64.whl (29.5 MB)\n",
      "\u001b[2K   \u001b[90m━━━━━━━━━━━━━━━━━━━━━━━━━━━━━━━━━━━━━━━━\u001b[0m \u001b[32m29.5/29.5 MB\u001b[0m \u001b[31m46.2 MB/s\u001b[0m eta \u001b[36m0:00:00\u001b[0m00:01\u001b[0m00:01\u001b[0m\n",
      "\u001b[?25hDownloading numpy-2.1.3-cp311-cp311-macosx_14_0_arm64.whl (5.4 MB)\n",
      "\u001b[2K   \u001b[90m━━━━━━━━━━━━━━━━━━━━━━━━━━━━━━━━━━━━━━━━\u001b[0m \u001b[32m5.4/5.4 MB\u001b[0m \u001b[31m53.5 MB/s\u001b[0m eta \u001b[36m0:00:00\u001b[0m\n",
      "\u001b[?25hUsing cached pytz-2024.2-py2.py3-none-any.whl (508 kB)\n",
      "Using cached tzdata-2024.2-py2.py3-none-any.whl (346 kB)\n",
      "Installing collected packages: pytz, tzdata, pyarrow, numpy, pandas\n",
      "Successfully installed numpy-2.1.3 pandas-2.2.3 pyarrow-18.0.0 pytz-2024.2 tzdata-2024.2\n",
      "Note: you may need to restart the kernel to use updated packages.\n"
     ]
    }
   ],
   "source": [
    "%pip install -r requirements.txt"
   ]
  }
 ],
 "metadata": {
  "kernelspec": {
   "display_name": "vsky",
   "language": "python",
   "name": "python3"
  },
  "language_info": {
   "codemirror_mode": {
    "name": "ipython",
    "version": 3
   },
   "file_extension": ".py",
   "mimetype": "text/x-python",
   "name": "python",
   "nbconvert_exporter": "python",
   "pygments_lexer": "ipython3",
   "version": "3.11.10"
  }
 },
 "nbformat": 4,
 "nbformat_minor": 2
}
