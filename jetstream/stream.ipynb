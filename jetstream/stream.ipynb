{
 "cells": [
  {
   "cell_type": "markdown",
   "metadata": {},
   "source": [
    "# Subscribe to the BlueSky feed"
   ]
  },
  {
   "cell_type": "code",
   "execution_count": 2,
   "metadata": {},
   "outputs": [],
   "source": [
    "from IPython.core.interactiveshell import InteractiveShell\n",
    "\n",
    "InteractiveShell.ast_node_interactivity = \"all\"  # type: ignore\n",
    "\n",
    "import logging\n",
    "import os\n",
    "import json\n",
    "\n",
    "logging.basicConfig(\n",
    "    level=logging.DEBUG,\n",
    "    format=\"%(asctime)s %(name)s %(levelname)s: %(message)s\",\n",
    "    datefmt=\"%I:%M:%S\",\n",
    "    handlers=[logging.StreamHandler()],\n",
    ")\n",
    "logger = logging.getLogger(__name__)\n",
    "\n",
    "\n",
    "def l(msg):\n",
    "    logger.info(msg)\n",
    "\n",
    "\n",
    "def ld(msg):\n",
    "    logger.debug(msg)"
   ]
  },
  {
   "cell_type": "markdown",
   "metadata": {},
   "source": [
    "## Atproto.blue Starter"
   ]
  },
  {
   "cell_type": "code",
   "execution_count": null,
   "metadata": {},
   "outputs": [],
   "source": [
    "from atproto import AsyncClient\n",
    "from dotenv import load_dotenv\n",
    "# Load the .env file\n",
    "load_dotenv(\"./yonz.env\")\n",
    "\n",
    "# Access the values\n",
    "LOGIN_PASS = os.getenv('PASS')\n",
    "database_url = os.getenv('DATABASE_URL')\n",
    "api_key = os.getenv('API_KEY')\n",
    "\n",
    "# Use the values\n",
    "print(f\"Secret Key: {LOGIN_PASS}\")\n",
    "print(f\"Database URL: {database_url}\")\n",
    "print(f\"API Key: {api_key}\")\n",
    "\n",
    "\n",
    "client = AsyncClient()\n",
    "# By default, it uses the server of bsky.app. To change this behavior, pass the base api URL to constructor\n",
    "# AsyncClient('https://example.com')\n",
    "client.login(\"yonz.bsky.app\", LOGIN_PASS)"
   ]
  }
 ],
 "metadata": {
  "kernelspec": {
   "display_name": "vsky",
   "language": "python",
   "name": "python3"
  },
  "language_info": {
   "codemirror_mode": {
    "name": "ipython",
    "version": 3
   },
   "file_extension": ".py",
   "mimetype": "text/x-python",
   "name": "python",
   "nbconvert_exporter": "python",
   "pygments_lexer": "ipython3",
   "version": "3.11.10"
  }
 },
 "nbformat": 4,
 "nbformat_minor": 2
}
