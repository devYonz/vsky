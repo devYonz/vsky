{
 "cells": [
  {
   "cell_type": "markdown",
   "metadata": {},
   "source": [
    "# Given a parque file of posts filter out the local-first ones"
   ]
  },
  {
   "cell_type": "code",
   "execution_count": 3,
   "metadata": {},
   "outputs": [
    {
     "name": "stderr",
     "output_type": "stream",
     "text": [
      "09:41:22 __main__ DEBUG: post            object\n",
      "feed_context    object\n",
      "reason          object\n",
      "reply           object\n",
      "py_type         object\n",
      "dtype: object\n"
     ]
    },
    {
     "data": {
      "text/plain": [
       "Index(['post', 'feed_context', 'reason', 'reply', 'py_type'], dtype='object')"
      ]
     },
     "execution_count": 3,
     "metadata": {},
     "output_type": "execute_result"
    }
   ],
   "source": [
    "\n",
    "import json\n",
    "import os\n",
    "import logging\n",
    "from IPython.core.interactiveshell import InteractiveShell\n",
    "from typing import List\n",
    "from time import sleep\n",
    "import pandas as pd\n",
    "import asyncio\n",
    "\n",
    "os.chdir('../')\n",
    "\n",
    "InteractiveShell.ast_node_interactivity = \"all\"  # type: ignore\n",
    "\n",
    "\n",
    "logging.basicConfig(\n",
    "    level=logging.DEBUG,\n",
    "    format=\"%(asctime)s %(name)s %(levelname)s: %(message)s\",\n",
    "    datefmt=\"%I:%M:%S\",\n",
    "    handlers=[logging.StreamHandler()],\n",
    ")\n",
    "logger = logging.getLogger(__name__)\n",
    "\n",
    "\n",
    "def l(msg):\n",
    "    logger.info(msg)\n",
    "\n",
    "\n",
    "def ld(msg):\n",
    "    logger.debug(msg)\n",
    "\n",
    "df = pd.read_parquet('z/bsky_feed.parquet')\n",
    "schema = df.dtypes\n",
    "\n",
    "ld(schema)\n",
    "df.columns"
   ]
  },
  {
   "cell_type": "code",
   "execution_count": null,
   "metadata": {},
   "outputs": [
    {
     "name": "stderr",
     "output_type": "stream",
     "text": [
      "09:44:09 __main__ DEBUG: {'author': {'associated': None, 'avatar': 'https://cdn.bsky.app/img/avatar/plain/did:plc:vrrdgcidwpvn4omvn7uuufoo/bafkreihwaff3ctjdb5uq2p7r4yenu3uvkbuzgazvlzavumvzgy2gdtjhje@jpeg', 'created_at': '2023-05-17T15:40:53.650Z', 'did': 'did:plc:vrrdgcidwpvn4omvn7uuufoo', 'display_name': 'Jake Lazaroff', 'handle': 'jakelazaroff.com', 'labels': array([], dtype=object), 'py_type': 'app.bsky.actor.defs#profileViewBasic', 'viewer': {'blocked_by': False, 'blocking': None, 'blocking_by_list': None, 'followed_by': 'at://did:plc:vrrdgcidwpvn4omvn7uuufoo/app.bsky.graph.follow/3lawq7s76ik2g', 'following': 'at://did:plc:xkaotj5shaptq4z25rr2ue25/app.bsky.graph.follow/3lb5pnxbwk62i', 'known_followers': None, 'muted': False, 'muted_by_list': None, 'py_type': 'app.bsky.actor.defs#viewerState'}}, 'cid': 'bafyreiahvjtjylqm7tqsdgtu4herahiky45qnepezslsqaimsgritxgpay', 'embed': {'alt': None, 'aspect_ratio': None, 'cid': None, 'external': {'description': 'Explore the Nucleo icons, 30000 icons for UIs, presentations, and print projects. Transform your workflow with Nucleo App, the powerful icon organizer for Mac and Windows.', 'py_type': 'app.bsky.embed.external#viewExternal', 'thumb': 'https://cdn.bsky.app/img/feed_thumbnail/plain/did:plc:vrrdgcidwpvn4omvn7uuufoo/bafkreiffgi5auoeiziduow6pf6ncnfswgogmvfk2pktjii3jlg2peg6dxi@jpeg', 'title': 'Nucleo – The Ultimate Icon Bundle', 'uri': 'https://nucleoapp.com'}, 'images': None, 'media': None, 'playlist': None, 'py_type': 'app.bsky.embed.external#view', 'record': None, 'thumbnail': None}, 'indexed_at': '2024-11-23T05:35:12.519Z', 'labels': array([], dtype=object), 'like_count': 0, 'py_type': 'app.bsky.feed.defs#postView', 'quote_count': 0, 'record': {'created_at': '2024-11-23T05:35:11.023Z', 'embed': {'alt': None, 'aspect_ratio': None, 'captions': None, 'external': {'description': 'Explore the Nucleo icons, 30000 icons for UIs, presentations, and print projects. Transform your workflow with Nucleo App, the powerful icon organizer for Mac and Windows.', 'py_type': 'app.bsky.embed.external#external', 'thumb': {'mime_type': 'image/jpeg', 'py_type': 'blob', 'ref': {'link': 'bafkreiffgi5auoeiziduow6pf6ncnfswgogmvfk2pktjii3jlg2peg6dxi'}, 'size': 496466.0}, 'title': 'Nucleo – The Ultimate Icon Bundle', 'uri': 'https://nucleoapp.com'}, 'images': None, 'media': None, 'py_type': 'app.bsky.embed.external', 'record': None, 'video': None}, 'entities': None, 'facets': array([{'features': array([{'did': 'did:plc:4llfo4grjtz5nlgszyxu3nwv', 'py_type': 'app.bsky.richtext.facet#mention', 'tag': None, 'uri': None}],\n",
      "             dtype=object), 'index': {'byte_end': 61, 'byte_start': 36, 'py_type': 'app.bsky.richtext.facet#byteSlice'}, 'py_type': 'app.bsky.richtext.facet'}],\n",
      "      dtype=object), 'labels': None, 'langs': array(['en'], dtype=object), 'py_type': 'app.bsky.feed.post', 'reply': None, 'tags': None, 'text': 'threw together an actual avatar for @linknotifier.bsky.social\\n\\nfrom a web design standpoint, that lifetime purchase of nucleo is probably the best money i’ve ever spent'}, 'reply_count': 0, 'repost_count': 0, 'threadgate': None, 'uri': 'at://did:plc:vrrdgcidwpvn4omvn7uuufoo/app.bsky.feed.post/3lblrij7cvc2j', 'viewer': {'embedding_disabled': False, 'like': None, 'pinned': None, 'py_type': 'app.bsky.feed.defs#viewerState', 'reply_disabled': None, 'repost': None, 'thread_muted': False}}\n"
     ]
    }
   ],
   "source": [
    "ld(df['post'][0])"
   ]
  },
  {
   "cell_type": "code",
   "execution_count": null,
   "metadata": {},
   "outputs": [],
   "source": [
    "import pydantic\n",
    "from pydantic import BaseModel\n",
    "\n"
   ]
  }
 ],
 "metadata": {
  "kernelspec": {
   "display_name": "vsky",
   "language": "python",
   "name": "python3"
  },
  "language_info": {
   "codemirror_mode": {
    "name": "ipython",
    "version": 3
   },
   "file_extension": ".py",
   "mimetype": "text/x-python",
   "name": "python",
   "nbconvert_exporter": "python",
   "pygments_lexer": "ipython3",
   "version": "3.11.10"
  }
 },
 "nbformat": 4,
 "nbformat_minor": 2
}
